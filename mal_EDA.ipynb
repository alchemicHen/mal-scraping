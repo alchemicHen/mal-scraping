{
 "metadata": {
  "language_info": {
   "codemirror_mode": {
    "name": "ipython",
    "version": 3
   },
   "file_extension": ".py",
   "mimetype": "text/x-python",
   "name": "python",
   "nbconvert_exporter": "python",
   "pygments_lexer": "ipython3",
   "version": "3.8.3-final"
  },
  "orig_nbformat": 2,
  "kernelspec": {
   "name": "python3",
   "display_name": "Python 3.8.3 32-bit ('.venv')",
   "metadata": {
    "interpreter": {
     "hash": "3046998e069a8ee93e30444cc403e4617040b9c68fe86dacb97e5dfa0b33401a"
    }
   }
  }
 },
 "nbformat": 4,
 "nbformat_minor": 2,
 "cells": [
  {
   "cell_type": "code",
   "execution_count": 2,
   "metadata": {},
   "outputs": [],
   "source": [
    "#Importing\n",
    "\n",
    "import mal_scraper as mal\n",
    "from mal_scraper import GetTop\n",
    "import pandas as pd \n",
    "import seaborn as sns\n",
    "import matplotlib.pyplot as plt\n",
    "import os"
   ]
  },
  {
   "cell_type": "code",
   "execution_count": 10,
   "metadata": {},
   "outputs": [
    {
     "output_type": "stream",
     "name": "stdout",
     "text": [
      "   Unnamed: 0                                 Title User Rank  User Rating  \\\n0           0      Fullmetal Alchemist: Brotherhood        #1        9.191   \n1           1  Shingeki no Kyojin: The Final Season        #2        9.161   \n2           2    Shingeki no Kyojin Season 3 Part 2        #3        9.111   \n3           3                           Steins;Gate        #4        9.111   \n4           4                              Gintama°        #5        9.101   \n\n  Popularity Ranking  Episode Count  Episode Runtime  \\\n0          2,265,241             64  24 min. per ep.   \n1            775,481             16  23 min. per ep.   \n2          1,110,912             10  23 min. per ep.   \n3          1,795,409             24  24 min. per ep.   \n4            409,268             51  24 min. per ep.   \n\n                       Airdate              Time to Watch  \\\n0   Apr 5, 2009 to Jul 4, 2010  1 day, 1 hour, 36 minutes   \n1             Dec 7, 2020 to ?         6 hours, 8 minutes   \n2  Apr 29, 2019 to Jul 1, 2019        3 hours, 50 minutes   \n3  Apr 6, 2011 to Sep 14, 2011        9 hours, 36 minutes   \n4  Apr 8, 2015 to Mar 30, 2016       20 hours, 24 minutes   \n\n                     Studios  \\\n0                  ['Bones']   \n1                  ['MAPPA']   \n2             ['Wit Studio']   \n3              ['White Fox']   \n4  ['Bandai Namco Pictures']   \n\n                                              Genres            Status  \n0  ['Action', 'Military', 'Adventure', 'Comedy', ...   Finished Airing  \n1  ['Action', 'Military', 'Mystery', 'Super Power...  Currently Airing  \n2  ['Action', 'Drama', 'Fantasy', 'Military', 'My...   Finished Airing  \n3                             ['Thriller', 'Sci-Fi']   Finished Airing  \n4  ['Action', 'Comedy', 'Historical', 'Parody', '...   Finished Airing  \n"
     ]
    }
   ],
   "source": [
    "#Importing dataframe from csv\n",
    "mal_df = pd.read_csv(r'C:\\Users\\micha.DESKTOP-U2HVTMF\\MyPythonScripts\\Jupyter\\MAL Scraping\\mal-scraping\\topMAL.csv')\n",
    "print(mal_df.head())"
   ]
  },
  {
   "cell_type": "code",
   "execution_count": null,
   "metadata": {},
   "outputs": [],
   "source": []
  }
 ]
}